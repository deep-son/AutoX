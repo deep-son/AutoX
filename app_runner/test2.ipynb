{
 "cells": [
  {
   "cell_type": "code",
   "execution_count": 4,
   "metadata": {},
   "outputs": [
    {
     "name": "stdout",
     "output_type": "stream",
     "text": [
      "../structured_data_classifier\\trial_0 trial_mid1692355708052.json\n",
      "../structured_data_classifier\\trial_0 trial_mid1692355713963.json\n",
      "../structured_data_classifier\\trial_0 trial_mid1692355714021.json\n",
      "../structured_data_classifier\\trial_1 trial_mid1692355714166.json\n",
      "../structured_data_classifier\\trial_1 trial_mid1692355720126.json\n",
      "../structured_data_classifier\\trial_1 trial_mid1692355720171.json\n",
      "../structured_data_classifier\\trial_2 trial_mid1692355720319.json\n",
      "../structured_data_classifier\\trial_2 trial_mid1692355725296.json\n",
      "../structured_data_classifier\\trial_2 trial_mid1692355725340.json\n"
     ]
    }
   ],
   "source": [
    "import os\n",
    "for dirname, subdirs, files in os.walk(\"../structured_data_classifier\"):\n",
    "    if \"trial\" in dirname:\n",
    "            for filename in files:\n",
    "                if \"mid\" in filename:\n",
    "                     print(dirname,filename)"
   ]
  },
  {
   "cell_type": "code",
   "execution_count": null,
   "metadata": {},
   "outputs": [],
   "source": []
  }
 ],
 "metadata": {
  "kernelspec": {
   "display_name": "automl",
   "language": "python",
   "name": "automl"
  },
  "language_info": {
   "codemirror_mode": {
    "name": "ipython",
    "version": 3
   },
   "file_extension": ".py",
   "mimetype": "text/x-python",
   "name": "python",
   "nbconvert_exporter": "python",
   "pygments_lexer": "ipython3",
   "version": "3.9.17"
  },
  "orig_nbformat": 4
 },
 "nbformat": 4,
 "nbformat_minor": 2
}
