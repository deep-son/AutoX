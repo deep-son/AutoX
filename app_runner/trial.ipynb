{
 "cells": [
  {
   "cell_type": "code",
   "execution_count": 5,
   "metadata": {},
   "outputs": [
    {
     "name": "stdout",
     "output_type": "stream",
     "text": [
      "trial_0 ['checkpoint', 'checkpoint.data-00000-of-00001', 'checkpoint.index', 'pipeline', 'trial.json', 'trial_mid1692611677418.json', 'trial_mid1692611683517.json', 'trial_mid1692611683560.json']\n",
      "trial_1 ['pipeline', 'trial.json', 'trial_mid1692611683705.json']\n"
     ]
    }
   ],
   "source": [
    "import os\n",
    "\n",
    "latest_trial_path = {}\n",
    "dir_path = \"./structured_data_classifier\"\n",
    "max_trial = 5\n",
    "folders_to_check = [f\"trial_{i}\" if max_trial<=9 else f\"trial_0{i}\" for i in range(max_trial) ]\n",
    "items_in_parent = os.listdir(dir_path)\n",
    "# print(items_in_parent)\n",
    "for folder in folders_to_check:\n",
    "    if folder in items_in_parent:\n",
    "        \n",
    "        folder_path = os.path.join(dir_path, folder)\n",
    "        mid_files =  os.listdir(folder_path)\n",
    "        print(folder, mid_files)\n",
    "        for mid_file in mid_files:\n",
    "            if 'mid' in mid_file:\n",
    "                mid_file_path = os.path.join(folder_path, mid_file)\n",
    "                if folder in latest_trial_path.keys():\n",
    "                    current = latest_trial_path[folder] \n",
    "                    curr_ts = current.split(\"mid\")[-1].split(\".\")[0]\n",
    "                    new_ts = mid_file_path.split(\"mid\")[-1].split(\".\")[0]\n",
    "                    if new_ts > curr_ts:\n",
    "                        latest_trial_path[folder] = mid_file_path\n",
    "                else:\n",
    "                    latest_trial_path[folder] = mid_file_path\n",
    "\n",
    "        "
   ]
  },
  {
   "cell_type": "code",
   "execution_count": 2,
   "metadata": {},
   "outputs": [],
   "source": [
    "import sqlite3\n",
    "conn = sqlite3.connect('paths.db')\n",
    "cursor = conn.cursor()\n",
    "conn.close()"
   ]
  },
  {
   "cell_type": "code",
   "execution_count": 1,
   "metadata": {},
   "outputs": [],
   "source": [
    "import json\n",
    "with open(\"../structured_data_classifier\\\\trial_4\\\\trial_mid1692727000456.json\", 'r') as f:\n",
    "    data = json.load(f)"
   ]
  },
  {
   "cell_type": "code",
   "execution_count": 2,
   "metadata": {},
   "outputs": [
    {
     "data": {
      "text/plain": [
       "{'trial_id': '4',\n",
       " 'hyperparameters': {'space': [{'class_name': 'Boolean',\n",
       "    'config': {'name': 'structured_data_block_1/normalize',\n",
       "     'default': False,\n",
       "     'conditions': []}},\n",
       "   {'class_name': 'Boolean',\n",
       "    'config': {'name': 'structured_data_block_1/dense_block_1/use_batchnorm',\n",
       "     'default': False,\n",
       "     'conditions': []}},\n",
       "   {'class_name': 'Choice',\n",
       "    'config': {'name': 'structured_data_block_1/dense_block_1/num_layers',\n",
       "     'default': 2,\n",
       "     'conditions': [],\n",
       "     'values': [1, 2, 3],\n",
       "     'ordered': True}},\n",
       "   {'class_name': 'Choice',\n",
       "    'config': {'name': 'structured_data_block_1/dense_block_1/units_0',\n",
       "     'default': 32,\n",
       "     'conditions': [],\n",
       "     'values': [16, 32, 64, 128, 256, 512, 1024],\n",
       "     'ordered': True}},\n",
       "   {'class_name': 'Choice',\n",
       "    'config': {'name': 'structured_data_block_1/dense_block_1/dropout',\n",
       "     'default': 0.0,\n",
       "     'conditions': [],\n",
       "     'values': [0.0, 0.25, 0.5],\n",
       "     'ordered': True}},\n",
       "   {'class_name': 'Choice',\n",
       "    'config': {'name': 'structured_data_block_1/dense_block_1/units_1',\n",
       "     'default': 32,\n",
       "     'conditions': [],\n",
       "     'values': [16, 32, 64, 128, 256, 512, 1024],\n",
       "     'ordered': True}},\n",
       "   {'class_name': 'Choice',\n",
       "    'config': {'name': 'classification_head_1/dropout',\n",
       "     'default': 0,\n",
       "     'conditions': [],\n",
       "     'values': [0.0, 0.25, 0.5],\n",
       "     'ordered': True}},\n",
       "   {'class_name': 'Choice',\n",
       "    'config': {'name': 'optimizer',\n",
       "     'default': 'adam',\n",
       "     'conditions': [],\n",
       "     'values': ['adam', 'sgd', 'adam_weight_decay'],\n",
       "     'ordered': False}},\n",
       "   {'class_name': 'Choice',\n",
       "    'config': {'name': 'learning_rate',\n",
       "     'default': 0.001,\n",
       "     'conditions': [],\n",
       "     'values': [0.1, 0.01, 0.001, 0.0001, 2e-05, 1e-05],\n",
       "     'ordered': True}},\n",
       "   {'class_name': 'Choice',\n",
       "    'config': {'name': 'structured_data_block_1/dense_block_1/units_2',\n",
       "     'default': 32,\n",
       "     'conditions': [],\n",
       "     'values': [16, 32, 64, 128, 256, 512, 1024],\n",
       "     'ordered': True}}],\n",
       "  'values': {'structured_data_block_1/normalize': True,\n",
       "   'structured_data_block_1/dense_block_1/use_batchnorm': False,\n",
       "   'structured_data_block_1/dense_block_1/num_layers': 3,\n",
       "   'structured_data_block_1/dense_block_1/units_0': 32,\n",
       "   'structured_data_block_1/dense_block_1/dropout': 0,\n",
       "   'structured_data_block_1/dense_block_1/units_1': 32,\n",
       "   'classification_head_1/dropout': 0.0,\n",
       "   'optimizer': 'adam',\n",
       "   'learning_rate': 0.001,\n",
       "   'structured_data_block_1/dense_block_1/units_2': 32}},\n",
       " 'metrics': {'metrics': {'loss': {'direction': 'min',\n",
       "    'observations': [{'value': [0.45654577016830444], 'step': 5}]},\n",
       "   'accuracy': {'direction': 'max',\n",
       "    'observations': [{'value': [0.806640625], 'step': 5}]},\n",
       "   'val_loss': {'direction': 'min',\n",
       "    'observations': [{'value': [0.3855026662349701], 'step': 5}]},\n",
       "   'val_accuracy': {'direction': 'max',\n",
       "    'observations': [{'value': [0.8608695864677429], 'step': 5}]}}},\n",
       " 'score': 0.8608695864677429,\n",
       " 'best_step': 5,\n",
       " 'status': 'COMPLETED',\n",
       " 'message': None}"
      ]
     },
     "execution_count": 2,
     "metadata": {},
     "output_type": "execute_result"
    }
   ],
   "source": [
    "data"
   ]
  },
  {
   "cell_type": "code",
   "execution_count": 3,
   "metadata": {},
   "outputs": [],
   "source": [
    "data = [('trial_0', '../structured_data_classifier\\\\trial_0\\\\trial_mid1692726980299.json'), ('trial_1', '../structured_data_classifier\\\\trial_1\\\\trial_mid1692726984966.json'), ('trial_2', '../structured_data_classifier\\\\trial_2\\\\trial_mid1692726989883.json'), ('trial_3', '../structured_data_classifier\\\\trial_3\\\\trial_mid1692726995403.json'), ('trial_4', '../structured_data_classifier\\\\trial_4\\\\trial_mid1692727000456.json')]"
   ]
  },
  {
   "cell_type": "code",
   "execution_count": 26,
   "metadata": {},
   "outputs": [],
   "source": []
  },
  {
   "cell_type": "code",
   "execution_count": 24,
   "metadata": {},
   "outputs": [],
   "source": [
    "model = Sequential()\n",
    "model.add(Dense(units=64, activation='relu', input_dim=784))\n",
    "model.add(Dense(units=10, activation='softmax'))\n"
   ]
  },
  {
   "cell_type": "code",
   "execution_count": 63,
   "metadata": {},
   "outputs": [
    {
     "data": {
      "image/png": "[encoded data removed]",
      "text/plain": [
       "<IPython.core.display.Image object>"
      ]
     },
     "execution_count": 63,
     "metadata": {},
     "output_type": "execute_result"
    }
   ],
   "source": [
    "# Visualize the model architecture\n",
    "vis_utils.plot_model(model, to_file='model_plot.png', show_shapes=True, show_layer_names=True,rankdir='LR', expand_nested=True, show_layer_activations=True )\n"
   ]
  },
  {
   "cell_type": "code",
   "execution_count": 65,
   "metadata": {},
   "outputs": [
    {
     "data": {
      "text/plain": [
       "'../structured_data_classifier\\\\trial_2'"
      ]
     },
     "execution_count": 65,
     "metadata": {},
     "output_type": "execute_result"
    }
   ],
   "source": [
    "import os\n",
    "os.path.dirname(\"../structured_data_classifier\\\\trial_2\\\\trial_mid1692807828308.json\")"
   ]
  },
  {
   "cell_type": "code",
   "execution_count": 30,
   "metadata": {},
   "outputs": [],
   "source": [
    "import tensorflow as tf\n",
    "from keras.utils import plot_model\n",
    "import json"
   ]
  },
  {
   "cell_type": "code",
   "execution_count": 32,
   "metadata": {},
   "outputs": [],
   "source": [
    "with open(\"../structured_data_classifier\\\\trial_2\\\\trial_mid1692807828308.json\", 'r') as f:\n",
    "    json_data = f.read() \n",
    "    data = json.loads(json_data)"
   ]
  },
  {
   "cell_type": "code",
   "execution_count": 37,
   "metadata": {},
   "outputs": [
    {
     "data": {
      "text/plain": [
       "{'structured_data_block_1/normalize': False,\n",
       " 'structured_data_block_1/dense_block_1/use_batchnorm': False,\n",
       " 'structured_data_block_1/dense_block_1/num_layers': 2,\n",
       " 'structured_data_block_1/dense_block_1/units_0': 1024,\n",
       " 'structured_data_block_1/dense_block_1/dropout': 0.0,\n",
       " 'structured_data_block_1/dense_block_1/units_1': 64,\n",
       " 'classification_head_1/dropout': 0.0,\n",
       " 'optimizer': 'adam',\n",
       " 'learning_rate': 0.001}"
      ]
     },
     "execution_count": 37,
     "metadata": {},
     "output_type": "execute_result"
    }
   ],
   "source": [
    "values = data['hyperparameters']['values']\n",
    "values"
   ]
  },
  {
   "cell_type": "code",
   "execution_count": 53,
   "metadata": {},
   "outputs": [],
   "source": [
    "num_layers = values[\"structured_data_block_1/dense_block_1/num_layers\"]\n",
    "layer_units = []\n",
    "for i in range(num_layers):\n",
    "    layer_units.append(values[f\"structured_data_block_1/dense_block_1/units_{i}\"])"
   ]
  },
  {
   "cell_type": "code",
   "execution_count": 62,
   "metadata": {},
   "outputs": [],
   "source": [
    "model = create_model(layer_units)"
   ]
  },
  {
   "cell_type": "code",
   "execution_count": 61,
   "metadata": {},
   "outputs": [],
   "source": [
    "def create_model(layer_units):\n",
    "    model = Sequential()\n",
    "    model.add(Dense(units=layer_units[0], input_dim=784, name=f\"layer_{layer_units[0]}\"))\n",
    "    layer_units = layer_units[1:]\n",
    "    for units in layer_units:\n",
    "        model.add(Dense(units=units, name=f\"layer_{units}\"))\n",
    "    \n",
    "    return model"
   ]
  },
  {
   "cell_type": "code",
   "execution_count": null,
   "metadata": {},
   "outputs": [],
   "source": []
  }
 ],
 "metadata": {
  "kernelspec": {
   "display_name": "automl",
   "language": "python",
   "name": "automl"
  },
  "language_info": {
   "codemirror_mode": {
    "name": "ipython",
    "version": 3
   },
   "file_extension": ".py",
   "mimetype": "text/x-python",
   "name": "python",
   "nbconvert_exporter": "python",
   "pygments_lexer": "ipython3",
   "version": "3.9.17"
  },
  "orig_nbformat": 4
 },
 "nbformat": 4,
 "nbformat_minor": 2
}
