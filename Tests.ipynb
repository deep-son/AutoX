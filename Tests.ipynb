{
 "cells": [
  {
   "cell_type": "code",
   "execution_count": 1,
   "id": "355b297e",
   "metadata": {},
   "outputs": [],
   "source": [
    "import pandas as pd\n",
    "import tensorflow as tf\n",
    "\n",
    "# import autokeras as ak"
   ]
  },
  {
   "cell_type": "code",
   "execution_count": 2,
   "id": "2a2e9099",
   "metadata": {},
   "outputs": [
    {
     "name": "stdout",
     "output_type": "stream",
     "text": [
      "Using TensorFlow backend\n"
     ]
    }
   ],
   "source": [
    "from app_runner import Wrappers"
   ]
  },
  {
   "cell_type": "code",
   "execution_count": 3,
   "id": "ae9597b3",
   "metadata": {},
   "outputs": [],
   "source": [
    "TRAIN_DATA_URL = \"https://storage.googleapis.com/tf-datasets/titanic/train.csv\"\n",
    "TEST_DATA_URL = \"https://storage.googleapis.com/tf-datasets/titanic/eval.csv\"\n",
    "\n",
    "train_file_path = tf.keras.utils.get_file(\"train.csv\", TRAIN_DATA_URL)\n",
    "test_file_path = tf.keras.utils.get_file(\"eval.csv\", TEST_DATA_URL)\n"
   ]
  },
  {
   "cell_type": "code",
   "execution_count": 4,
   "id": "8db77b1a",
   "metadata": {},
   "outputs": [],
   "source": [
    "cls_obj = Wrappers()"
   ]
  },
  {
   "cell_type": "code",
   "execution_count": 5,
   "id": "22cfda8a",
   "metadata": {},
   "outputs": [
    {
     "name": "stdout",
     "output_type": "stream",
     "text": [
      "Trial 10 Complete [00h 00m 08s]\n",
      "val_accuracy: 0.8608695864677429\n",
      "\n",
      "Best val_accuracy So Far: 0.8695651888847351\n",
      "Total elapsed time: 00h 01m 52s\n",
      "INFO:tensorflow:Oracle triggered exit\n",
      "Epoch 1/10\n",
      "20/20 [==============================] - 1s 4ms/step - loss: 0.6694 - accuracy: 0.6539\n",
      "Epoch 2/10\n",
      "20/20 [==============================] - 0s 5ms/step - loss: 0.6179 - accuracy: 0.6842\n",
      "Epoch 3/10\n",
      "20/20 [==============================] - 0s 6ms/step - loss: 0.5828 - accuracy: 0.7129\n",
      "Epoch 4/10\n",
      "20/20 [==============================] - 0s 5ms/step - loss: 0.5437 - accuracy: 0.7560\n",
      "Epoch 5/10\n",
      "20/20 [==============================] - 0s 5ms/step - loss: 0.5294 - accuracy: 0.7656\n",
      "Epoch 6/10\n",
      "20/20 [==============================] - 0s 5ms/step - loss: 0.5316 - accuracy: 0.7656\n",
      "Epoch 7/10\n",
      "20/20 [==============================] - 0s 5ms/step - loss: 0.5153 - accuracy: 0.7863\n",
      "Epoch 8/10\n",
      "20/20 [==============================] - 0s 5ms/step - loss: 0.5329 - accuracy: 0.7592\n",
      "Epoch 9/10\n",
      "20/20 [==============================] - 0s 5ms/step - loss: 0.4865 - accuracy: 0.8038\n",
      "Epoch 10/10\n",
      "20/20 [==============================] - 0s 4ms/step - loss: 0.4698 - accuracy: 0.8198\n",
      "INFO:tensorflow:Assets written to: .\\structured_data_classifier\\best_model\\assets\n"
     ]
    }
   ],
   "source": [
    "cls_obj.StructuredDataClassifier(overwrite=True, max_trials=10)\n",
    "cls_obj.sdc_fit(\n",
    "    # The path to the train.csv file.\n",
    "    train_file_path,\n",
    "    # The name of the label column.\n",
    "    \"survived\",\n",
    "    epochs=10,\n",
    ")"
   ]
  },
  {
   "cell_type": "code",
   "execution_count": 6,
   "id": "addc712c",
   "metadata": {},
   "outputs": [],
   "source": [
    "cls_obj.stop_flask_app()"
   ]
  },
  {
   "cell_type": "code",
   "execution_count": 7,
   "id": "7a44ba74",
   "metadata": {},
   "outputs": [
    {
     "name": "stdout",
     "output_type": "stream",
     "text": [
      "Workers running\n",
      "17624\n",
      "Workers running\n",
      "17624\n"
     ]
    },
    {
     "data": {
      "text/plain": [
       "<Future at 0x250de14efa0 state=finished returned NoneType>"
      ]
     },
     "execution_count": 7,
     "metadata": {},
     "output_type": "execute_result"
    }
   ],
   "source": [
    "import concurrent.futures\n",
    "import os\n",
    "\n",
    "def worker():\n",
    "    while True:\n",
    "        print(\"Workers running\")\n",
    "        print(os.getpid())\n",
    "\n",
    "pool = concurrent.futures.ThreadPoolExecutor(max_workers=2)\n",
    "pool.submit(worker)\n",
    "pool.submit(worker)"
   ]
  },
  {
   "cell_type": "code",
   "execution_count": 10,
   "id": "3cb75c13",
   "metadata": {},
   "outputs": [
    {
     "name": "stdout",
     "output_type": "stream",
     "text": [
      "Trial 3 Complete [00h 00m 06s]\n",
      "val_accuracy: 0.730434775352478\n",
      "\n",
      "Best val_accuracy So Far: 0.8608695864677429\n",
      "Total elapsed time: 00h 00m 22s\n",
      "INFO:tensorflow:Oracle triggered exit\n"
     ]
    },
    {
     "name": "stderr",
     "output_type": "stream",
     "text": [
      "INFO:tensorflow:Oracle triggered exit\n"
     ]
    },
    {
     "name": "stdout",
     "output_type": "stream",
     "text": [
      "Epoch 1/10\n",
      "20/20 [==============================] - 1s 4ms/step - loss: 0.6421 - accuracy: 0.6571\n",
      "Epoch 2/10\n",
      "20/20 [==============================] - 0s 7ms/step - loss: 0.5465 - accuracy: 0.7735\n",
      "Epoch 3/10\n",
      "20/20 [==============================] - 0s 4ms/step - loss: 0.4892 - accuracy: 0.7751\n",
      "Epoch 4/10\n",
      "20/20 [==============================] - 0s 4ms/step - loss: 0.4568 - accuracy: 0.8038\n",
      "Epoch 5/10\n",
      "20/20 [==============================] - 0s 4ms/step - loss: 0.4383 - accuracy: 0.8022\n",
      "Epoch 6/10\n",
      "20/20 [==============================] - 0s 4ms/step - loss: 0.4269 - accuracy: 0.8214\n",
      "Epoch 7/10\n",
      "20/20 [==============================] - 0s 4ms/step - loss: 0.4185 - accuracy: 0.8166\n",
      "Epoch 8/10\n",
      "20/20 [==============================] - 0s 4ms/step - loss: 0.4116 - accuracy: 0.8182\n",
      "Epoch 9/10\n",
      "20/20 [==============================] - 0s 4ms/step - loss: 0.4060 - accuracy: 0.8198\n",
      "Epoch 10/10\n",
      "20/20 [==============================] - 0s 4ms/step - loss: 0.4009 - accuracy: 0.8246\n",
      "INFO:tensorflow:Assets written to: .\\structured_data_classifier\\best_model\\assets\n"
     ]
    },
    {
     "name": "stderr",
     "output_type": "stream",
     "text": [
      "INFO:tensorflow:Assets written to: .\\structured_data_classifier\\best_model\\assets\n"
     ]
    },
    {
     "name": "stdout",
     "output_type": "stream",
     "text": [
      "9/9 [==============================] - 0s 4ms/step\n",
      "9/9 [==============================] - 0s 2ms/step\n",
      "9/9 [==============================] - 0s 4ms/step - loss: 0.4277 - accuracy: 0.7917\n",
      "[0.4276604950428009, 0.7916666865348816]\n"
     ]
    }
   ],
   "source": [
    "# Initialize the structured data classifier.\n",
    "clf = ak.StructuredDataClassifier(\n",
    "    overwrite=True, max_trials=3\n",
    ")  # It tries 3 different models.\n",
    "# Feed the structured data classifier with training data.\n",
    "clf.fit(\n",
    "    # The path to the train.csv file.\n",
    "    train_file_path,\n",
    "    # The name of the label column.\n",
    "    \"survived\",\n",
    "    epochs=10,\n",
    ")\n",
    "# Predict with the best model.\n",
    "predicted_y = clf.predict(test_file_path)\n",
    "# Evaluate the best model with testing data.\n",
    "print(clf.evaluate(test_file_path, \"survived\"))\n"
   ]
  },
  {
   "cell_type": "code",
   "execution_count": 6,
   "id": "328335b4",
   "metadata": {},
   "outputs": [
    {
     "data": {
      "text/plain": [
       "['', '\\\\structured_data_classifier\\\\st_model\\\\ssets', 'json']"
      ]
     },
     "execution_count": 6,
     "metadata": {},
     "output_type": "execute_result"
    }
   ],
   "source": [
    "st = \".\\structured_data_classifier\\st_model\\ssets.json\"\n",
    "st.split(\".\")"
   ]
  },
  {
   "cell_type": "code",
   "execution_count": 7,
   "id": "4ad3680f",
   "metadata": {},
   "outputs": [],
   "source": [
    "import os\n",
    "\n",
    "import numpy as np\n",
    "import tensorflow as tf\n",
    "from sklearn.datasets import load_files\n",
    "\n",
    "import autokeras as ak\n"
   ]
  },
  {
   "cell_type": "code",
   "execution_count": 8,
   "id": "e31cfcbc",
   "metadata": {},
   "outputs": [
    {
     "name": "stdout",
     "output_type": "stream",
     "text": [
      "Downloading data from http://ai.stanford.edu/~amaas/data/sentiment/aclImdb_v1.tar.gz\n",
      "84125825/84125825 [==============================] - 10s 0us/step\n",
      "(25000,)\n",
      "(25000,)\n",
      "b'Zero Day leads you to think, even re-think why two'\n"
     ]
    }
   ],
   "source": [
    "dataset = tf.keras.utils.get_file(\n",
    "    fname=\"aclImdb.tar.gz\",\n",
    "    origin=\"http://ai.stanford.edu/~amaas/data/sentiment/aclImdb_v1.tar.gz\",\n",
    "    extract=True,\n",
    ")\n",
    "\n",
    "# set path to dataset\n",
    "IMDB_DATADIR = os.path.join(os.path.dirname(dataset), \"aclImdb\")\n",
    "\n",
    "classes = [\"pos\", \"neg\"]\n",
    "train_data = load_files(\n",
    "    os.path.join(IMDB_DATADIR, \"train\"), shuffle=True, categories=classes\n",
    ")\n",
    "test_data = load_files(\n",
    "    os.path.join(IMDB_DATADIR, \"test\"), shuffle=False, categories=classes\n",
    ")\n",
    "\n",
    "x_train = np.array(train_data.data)\n",
    "y_train = np.array(train_data.target)\n",
    "x_test = np.array(test_data.data)\n",
    "y_test = np.array(test_data.target)\n",
    "\n",
    "print(x_train.shape)  # (25000,)\n",
    "print(y_train.shape)  # (25000, 1)\n",
    "print(x_train[0][:50])  # this film was just brilliant casting\n"
   ]
  },
  {
   "cell_type": "code",
   "execution_count": 9,
   "id": "e9b6c15a",
   "metadata": {},
   "outputs": [
    {
     "name": "stdout",
     "output_type": "stream",
     "text": [
      "Trial 1 Complete [00h 03m 01s]\n",
      "val_loss: 0.2726795971393585\n",
      "\n",
      "Best val_loss So Far: 0.2726795971393585\n",
      "Total elapsed time: 00h 03m 01s\n",
      "INFO:tensorflow:Oracle triggered exit\n",
      "Epoch 1/2\n",
      "782/782 [==============================] - 102s 128ms/step - loss: 0.4355 - accuracy: 0.7815\n",
      "Epoch 2/2\n",
      "782/782 [==============================] - 102s 131ms/step - loss: 0.2430 - accuracy: 0.9040\n"
     ]
    },
    {
     "name": "stderr",
     "output_type": "stream",
     "text": [
      "WARNING:absl:Found untraced functions such as _jit_compiled_convolution_op while saving (showing 1 of 1). These functions will not be directly callable after loading.\n"
     ]
    },
    {
     "name": "stdout",
     "output_type": "stream",
     "text": [
      "INFO:tensorflow:Assets written to: .\\text_classifier\\best_model\\assets\n"
     ]
    },
    {
     "name": "stderr",
     "output_type": "stream",
     "text": [
      "INFO:tensorflow:Assets written to: .\\text_classifier\\best_model\\assets\n"
     ]
    },
    {
     "name": "stdout",
     "output_type": "stream",
     "text": [
      "782/782 [==============================] - 28s 36ms/step\n",
      "782/782 [==============================] - 27s 34ms/step\n",
      "782/782 [==============================] - 28s 35ms/step - loss: 0.2743 - accuracy: 0.8887\n",
      "[0.2742992639541626, 0.8887199759483337]\n"
     ]
    }
   ],
   "source": [
    "# Initialize the text classifier.\n",
    "clf = ak.TextClassifier(\n",
    "    overwrite=True, max_trials=1\n",
    ")  # It only tries 1 model as a quick demo.\n",
    "# Feed the text classifier with training data.\n",
    "clf.fit(x_train, y_train, epochs=2)\n",
    "# Predict with the best model.\n",
    "predicted_y = clf.predict(x_test)\n",
    "# Evaluate the best model with testing data.\n",
    "print(clf.evaluate(x_test, y_test))\n"
   ]
  },
  {
   "cell_type": "code",
   "execution_count": 7,
   "id": "60592a9f",
   "metadata": {},
   "outputs": [],
   "source": [
    "import time"
   ]
  },
  {
   "cell_type": "code",
   "execution_count": 16,
   "id": "d5e935ba",
   "metadata": {},
   "outputs": [
    {
     "data": {
      "text/plain": [
       "'1692355580907'"
      ]
     },
     "execution_count": 16,
     "metadata": {},
     "output_type": "execute_result"
    }
   ],
   "source": [
    "str(int(time.time() * 1000))"
   ]
  },
  {
   "cell_type": "code",
   "execution_count": 14,
   "id": "4344309e",
   "metadata": {},
   "outputs": [
    {
     "data": {
      "text/plain": [
       "1692355553.187825"
      ]
     },
     "execution_count": 14,
     "metadata": {},
     "output_type": "execute_result"
    }
   ],
   "source": [
    "time.time()"
   ]
  },
  {
   "cell_type": "code",
   "execution_count": 1,
   "id": "18aecef3",
   "metadata": {},
   "outputs": [
    {
     "name": "stdout",
     "output_type": "stream",
     "text": [
      "8\n"
     ]
    }
   ],
   "source": [
    "import multiprocessing\n",
    "\n",
    "def worker_function(item):\n",
    "    # Your processing logic here\n",
    "    result = item * 2\n",
    "    return result\n",
    "\n",
    "\n",
    "items = [1, 2, 3, 4, 5]\n",
    "\n",
    "# Number of worker processes\n",
    "num_processes = multiprocessing.cpu_count()  # You can adjust this based on your needs\n",
    "print(num_processes)\n",
    "\n",
    "# Create a pool of processes\n",
    "with multiprocessing.Pool(processes=num_processes) as pool:\n",
    "    results = pool.map(worker_function, items)\n",
    "\n",
    "print(results)\n"
   ]
  },
  {
   "cell_type": "code",
   "execution_count": 1,
   "id": "ca97274e",
   "metadata": {},
   "outputs": [],
   "source": [
    "from multiprocessing import Pool\n",
    "\n",
    "def f(x):\n",
    "    return x*x\n",
    "\n",
    "if __name__ == '__main__':\n",
    "    with Pool(5) as p:\n",
    "        print(p.map(f, [1, 2, 3]))"
   ]
  },
  {
   "cell_type": "code",
   "execution_count": null,
   "id": "a6757380",
   "metadata": {},
   "outputs": [],
   "source": []
  }
 ],
 "metadata": {
  "kernelspec": {
   "display_name": "automl",
   "language": "python",
   "name": "automl"
  },
  "language_info": {
   "codemirror_mode": {
    "name": "ipython",
    "version": 3
   },
   "file_extension": ".py",
   "mimetype": "text/x-python",
   "name": "python",
   "nbconvert_exporter": "python",
   "pygments_lexer": "ipython3",
   "version": "3.9.17"
  }
 },
 "nbformat": 4,
 "nbformat_minor": 5
}
